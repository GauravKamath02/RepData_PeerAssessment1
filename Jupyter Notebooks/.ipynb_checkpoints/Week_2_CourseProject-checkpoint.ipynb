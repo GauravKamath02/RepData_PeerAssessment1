{
 "cells": [
  {
   "cell_type": "markdown",
   "id": "f098a123-5e2d-4643-9c3b-f5527583e85a",
   "metadata": {},
   "source": [
    "### Loading the dataset"
   ]
  },
  {
   "cell_type": "code",
   "execution_count": 1,
   "id": "043aaf15-15be-4c7b-8a7f-68aa5b63f31e",
   "metadata": {},
   "outputs": [],
   "source": [
    "df <- read.csv(\"../activity/activity.csv\")"
   ]
  },
  {
   "cell_type": "code",
   "execution_count": 2,
   "id": "0437b261-3843-4bbe-8dad-042756629d02",
   "metadata": {},
   "outputs": [
    {
     "data": {
      "text/html": [
       "<table class=\"dataframe\">\n",
       "<caption>A data.frame: 6 × 3</caption>\n",
       "<thead>\n",
       "\t<tr><th></th><th scope=col>steps</th><th scope=col>date</th><th scope=col>interval</th></tr>\n",
       "\t<tr><th></th><th scope=col>&lt;int&gt;</th><th scope=col>&lt;chr&gt;</th><th scope=col>&lt;int&gt;</th></tr>\n",
       "</thead>\n",
       "<tbody>\n",
       "\t<tr><th scope=row>1</th><td>NA</td><td>2012-10-01</td><td> 0</td></tr>\n",
       "\t<tr><th scope=row>2</th><td>NA</td><td>2012-10-01</td><td> 5</td></tr>\n",
       "\t<tr><th scope=row>3</th><td>NA</td><td>2012-10-01</td><td>10</td></tr>\n",
       "\t<tr><th scope=row>4</th><td>NA</td><td>2012-10-01</td><td>15</td></tr>\n",
       "\t<tr><th scope=row>5</th><td>NA</td><td>2012-10-01</td><td>20</td></tr>\n",
       "\t<tr><th scope=row>6</th><td>NA</td><td>2012-10-01</td><td>25</td></tr>\n",
       "</tbody>\n",
       "</table>\n"
      ],
      "text/latex": [
       "A data.frame: 6 × 3\n",
       "\\begin{tabular}{r|lll}\n",
       "  & steps & date & interval\\\\\n",
       "  & <int> & <chr> & <int>\\\\\n",
       "\\hline\n",
       "\t1 & NA & 2012-10-01 &  0\\\\\n",
       "\t2 & NA & 2012-10-01 &  5\\\\\n",
       "\t3 & NA & 2012-10-01 & 10\\\\\n",
       "\t4 & NA & 2012-10-01 & 15\\\\\n",
       "\t5 & NA & 2012-10-01 & 20\\\\\n",
       "\t6 & NA & 2012-10-01 & 25\\\\\n",
       "\\end{tabular}\n"
      ],
      "text/markdown": [
       "\n",
       "A data.frame: 6 × 3\n",
       "\n",
       "| <!--/--> | steps &lt;int&gt; | date &lt;chr&gt; | interval &lt;int&gt; |\n",
       "|---|---|---|---|\n",
       "| 1 | NA | 2012-10-01 |  0 |\n",
       "| 2 | NA | 2012-10-01 |  5 |\n",
       "| 3 | NA | 2012-10-01 | 10 |\n",
       "| 4 | NA | 2012-10-01 | 15 |\n",
       "| 5 | NA | 2012-10-01 | 20 |\n",
       "| 6 | NA | 2012-10-01 | 25 |\n",
       "\n"
      ],
      "text/plain": [
       "  steps date       interval\n",
       "1 NA    2012-10-01  0      \n",
       "2 NA    2012-10-01  5      \n",
       "3 NA    2012-10-01 10      \n",
       "4 NA    2012-10-01 15      \n",
       "5 NA    2012-10-01 20      \n",
       "6 NA    2012-10-01 25      "
      ]
     },
     "metadata": {},
     "output_type": "display_data"
    }
   ],
   "source": [
    "head(df)"
   ]
  },
  {
   "cell_type": "code",
   "execution_count": 3,
   "id": "59fbc543-5086-406f-8122-4d690bf352d2",
   "metadata": {},
   "outputs": [],
   "source": [
    "df$date <- as.Date(df$date, \"%Y-%m-%d\")"
   ]
  },
  {
   "cell_type": "code",
   "execution_count": 4,
   "id": "922e3c50-5fa3-415c-9c44-ce178be71900",
   "metadata": {},
   "outputs": [
    {
     "data": {
      "text/html": [
       "<table class=\"dataframe\">\n",
       "<caption>A data.frame: 6 × 3</caption>\n",
       "<thead>\n",
       "\t<tr><th></th><th scope=col>steps</th><th scope=col>date</th><th scope=col>interval</th></tr>\n",
       "\t<tr><th></th><th scope=col>&lt;int&gt;</th><th scope=col>&lt;date&gt;</th><th scope=col>&lt;int&gt;</th></tr>\n",
       "</thead>\n",
       "<tbody>\n",
       "\t<tr><th scope=row>1</th><td>NA</td><td>2012-10-01</td><td> 0</td></tr>\n",
       "\t<tr><th scope=row>2</th><td>NA</td><td>2012-10-01</td><td> 5</td></tr>\n",
       "\t<tr><th scope=row>3</th><td>NA</td><td>2012-10-01</td><td>10</td></tr>\n",
       "\t<tr><th scope=row>4</th><td>NA</td><td>2012-10-01</td><td>15</td></tr>\n",
       "\t<tr><th scope=row>5</th><td>NA</td><td>2012-10-01</td><td>20</td></tr>\n",
       "\t<tr><th scope=row>6</th><td>NA</td><td>2012-10-01</td><td>25</td></tr>\n",
       "</tbody>\n",
       "</table>\n"
      ],
      "text/latex": [
       "A data.frame: 6 × 3\n",
       "\\begin{tabular}{r|lll}\n",
       "  & steps & date & interval\\\\\n",
       "  & <int> & <date> & <int>\\\\\n",
       "\\hline\n",
       "\t1 & NA & 2012-10-01 &  0\\\\\n",
       "\t2 & NA & 2012-10-01 &  5\\\\\n",
       "\t3 & NA & 2012-10-01 & 10\\\\\n",
       "\t4 & NA & 2012-10-01 & 15\\\\\n",
       "\t5 & NA & 2012-10-01 & 20\\\\\n",
       "\t6 & NA & 2012-10-01 & 25\\\\\n",
       "\\end{tabular}\n"
      ],
      "text/markdown": [
       "\n",
       "A data.frame: 6 × 3\n",
       "\n",
       "| <!--/--> | steps &lt;int&gt; | date &lt;date&gt; | interval &lt;int&gt; |\n",
       "|---|---|---|---|\n",
       "| 1 | NA | 2012-10-01 |  0 |\n",
       "| 2 | NA | 2012-10-01 |  5 |\n",
       "| 3 | NA | 2012-10-01 | 10 |\n",
       "| 4 | NA | 2012-10-01 | 15 |\n",
       "| 5 | NA | 2012-10-01 | 20 |\n",
       "| 6 | NA | 2012-10-01 | 25 |\n",
       "\n"
      ],
      "text/plain": [
       "  steps date       interval\n",
       "1 NA    2012-10-01  0      \n",
       "2 NA    2012-10-01  5      \n",
       "3 NA    2012-10-01 10      \n",
       "4 NA    2012-10-01 15      \n",
       "5 NA    2012-10-01 20      \n",
       "6 NA    2012-10-01 25      "
      ]
     },
     "metadata": {},
     "output_type": "display_data"
    }
   ],
   "source": [
    "head(df)"
   ]
  },
  {
   "cell_type": "code",
   "execution_count": 5,
   "id": "33425a55-ece8-4424-9bf8-205c7ed4ab95",
   "metadata": {},
   "outputs": [
    {
     "data": {
      "text/html": [
       "<style>\n",
       ".dl-inline {width: auto; margin:0; padding: 0}\n",
       ".dl-inline>dt, .dl-inline>dd {float: none; width: auto; display: inline-block}\n",
       ".dl-inline>dt::after {content: \":\\0020\"; padding-right: .5ex}\n",
       ".dl-inline>dt:not(:first-of-type) {padding-left: .5ex}\n",
       "</style><dl class=dl-inline><dt>2012-10-01</dt><dd>0</dd><dt>2012-10-02</dt><dd>126</dd><dt>2012-10-03</dt><dd>11352</dd><dt>2012-10-04</dt><dd>12116</dd><dt>2012-10-05</dt><dd>13294</dd><dt>2012-10-06</dt><dd>15420</dd><dt>2012-10-07</dt><dd>11015</dd><dt>2012-10-08</dt><dd>0</dd><dt>2012-10-09</dt><dd>12811</dd><dt>2012-10-10</dt><dd>9900</dd><dt>2012-10-11</dt><dd>10304</dd><dt>2012-10-12</dt><dd>17382</dd><dt>2012-10-13</dt><dd>12426</dd><dt>2012-10-14</dt><dd>15098</dd><dt>2012-10-15</dt><dd>10139</dd><dt>2012-10-16</dt><dd>15084</dd><dt>2012-10-17</dt><dd>13452</dd><dt>2012-10-18</dt><dd>10056</dd><dt>2012-10-19</dt><dd>11829</dd><dt>2012-10-20</dt><dd>10395</dd><dt>2012-10-21</dt><dd>8821</dd><dt>2012-10-22</dt><dd>13460</dd><dt>2012-10-23</dt><dd>8918</dd><dt>2012-10-24</dt><dd>8355</dd><dt>2012-10-25</dt><dd>2492</dd><dt>2012-10-26</dt><dd>6778</dd><dt>2012-10-27</dt><dd>10119</dd><dt>2012-10-28</dt><dd>11458</dd><dt>2012-10-29</dt><dd>5018</dd><dt>2012-10-30</dt><dd>9819</dd><dt>2012-10-31</dt><dd>15414</dd><dt>2012-11-01</dt><dd>0</dd><dt>2012-11-02</dt><dd>10600</dd><dt>2012-11-03</dt><dd>10571</dd><dt>2012-11-04</dt><dd>0</dd><dt>2012-11-05</dt><dd>10439</dd><dt>2012-11-06</dt><dd>8334</dd><dt>2012-11-07</dt><dd>12883</dd><dt>2012-11-08</dt><dd>3219</dd><dt>2012-11-09</dt><dd>0</dd><dt>2012-11-10</dt><dd>0</dd><dt>2012-11-11</dt><dd>12608</dd><dt>2012-11-12</dt><dd>10765</dd><dt>2012-11-13</dt><dd>7336</dd><dt>2012-11-14</dt><dd>0</dd><dt>2012-11-15</dt><dd>41</dd><dt>2012-11-16</dt><dd>5441</dd><dt>2012-11-17</dt><dd>14339</dd><dt>2012-11-18</dt><dd>15110</dd><dt>2012-11-19</dt><dd>8841</dd><dt>2012-11-20</dt><dd>4472</dd><dt>2012-11-21</dt><dd>12787</dd><dt>2012-11-22</dt><dd>20427</dd><dt>2012-11-23</dt><dd>21194</dd><dt>2012-11-24</dt><dd>14478</dd><dt>2012-11-25</dt><dd>11834</dd><dt>2012-11-26</dt><dd>11162</dd><dt>2012-11-27</dt><dd>13646</dd><dt>2012-11-28</dt><dd>10183</dd><dt>2012-11-29</dt><dd>7047</dd><dt>2012-11-30</dt><dd>0</dd></dl>\n"
      ],
      "text/latex": [
       "\\begin{description*}\n",
       "\\item[2012-10-01] 0\n",
       "\\item[2012-10-02] 126\n",
       "\\item[2012-10-03] 11352\n",
       "\\item[2012-10-04] 12116\n",
       "\\item[2012-10-05] 13294\n",
       "\\item[2012-10-06] 15420\n",
       "\\item[2012-10-07] 11015\n",
       "\\item[2012-10-08] 0\n",
       "\\item[2012-10-09] 12811\n",
       "\\item[2012-10-10] 9900\n",
       "\\item[2012-10-11] 10304\n",
       "\\item[2012-10-12] 17382\n",
       "\\item[2012-10-13] 12426\n",
       "\\item[2012-10-14] 15098\n",
       "\\item[2012-10-15] 10139\n",
       "\\item[2012-10-16] 15084\n",
       "\\item[2012-10-17] 13452\n",
       "\\item[2012-10-18] 10056\n",
       "\\item[2012-10-19] 11829\n",
       "\\item[2012-10-20] 10395\n",
       "\\item[2012-10-21] 8821\n",
       "\\item[2012-10-22] 13460\n",
       "\\item[2012-10-23] 8918\n",
       "\\item[2012-10-24] 8355\n",
       "\\item[2012-10-25] 2492\n",
       "\\item[2012-10-26] 6778\n",
       "\\item[2012-10-27] 10119\n",
       "\\item[2012-10-28] 11458\n",
       "\\item[2012-10-29] 5018\n",
       "\\item[2012-10-30] 9819\n",
       "\\item[2012-10-31] 15414\n",
       "\\item[2012-11-01] 0\n",
       "\\item[2012-11-02] 10600\n",
       "\\item[2012-11-03] 10571\n",
       "\\item[2012-11-04] 0\n",
       "\\item[2012-11-05] 10439\n",
       "\\item[2012-11-06] 8334\n",
       "\\item[2012-11-07] 12883\n",
       "\\item[2012-11-08] 3219\n",
       "\\item[2012-11-09] 0\n",
       "\\item[2012-11-10] 0\n",
       "\\item[2012-11-11] 12608\n",
       "\\item[2012-11-12] 10765\n",
       "\\item[2012-11-13] 7336\n",
       "\\item[2012-11-14] 0\n",
       "\\item[2012-11-15] 41\n",
       "\\item[2012-11-16] 5441\n",
       "\\item[2012-11-17] 14339\n",
       "\\item[2012-11-18] 15110\n",
       "\\item[2012-11-19] 8841\n",
       "\\item[2012-11-20] 4472\n",
       "\\item[2012-11-21] 12787\n",
       "\\item[2012-11-22] 20427\n",
       "\\item[2012-11-23] 21194\n",
       "\\item[2012-11-24] 14478\n",
       "\\item[2012-11-25] 11834\n",
       "\\item[2012-11-26] 11162\n",
       "\\item[2012-11-27] 13646\n",
       "\\item[2012-11-28] 10183\n",
       "\\item[2012-11-29] 7047\n",
       "\\item[2012-11-30] 0\n",
       "\\end{description*}\n"
      ],
      "text/markdown": [
       "2012-10-01\n",
       ":   02012-10-02\n",
       ":   1262012-10-03\n",
       ":   113522012-10-04\n",
       ":   121162012-10-05\n",
       ":   132942012-10-06\n",
       ":   154202012-10-07\n",
       ":   110152012-10-08\n",
       ":   02012-10-09\n",
       ":   128112012-10-10\n",
       ":   99002012-10-11\n",
       ":   103042012-10-12\n",
       ":   173822012-10-13\n",
       ":   124262012-10-14\n",
       ":   150982012-10-15\n",
       ":   101392012-10-16\n",
       ":   150842012-10-17\n",
       ":   134522012-10-18\n",
       ":   100562012-10-19\n",
       ":   118292012-10-20\n",
       ":   103952012-10-21\n",
       ":   88212012-10-22\n",
       ":   134602012-10-23\n",
       ":   89182012-10-24\n",
       ":   83552012-10-25\n",
       ":   24922012-10-26\n",
       ":   67782012-10-27\n",
       ":   101192012-10-28\n",
       ":   114582012-10-29\n",
       ":   50182012-10-30\n",
       ":   98192012-10-31\n",
       ":   154142012-11-01\n",
       ":   02012-11-02\n",
       ":   106002012-11-03\n",
       ":   105712012-11-04\n",
       ":   02012-11-05\n",
       ":   104392012-11-06\n",
       ":   83342012-11-07\n",
       ":   128832012-11-08\n",
       ":   32192012-11-09\n",
       ":   02012-11-10\n",
       ":   02012-11-11\n",
       ":   126082012-11-12\n",
       ":   107652012-11-13\n",
       ":   73362012-11-14\n",
       ":   02012-11-15\n",
       ":   412012-11-16\n",
       ":   54412012-11-17\n",
       ":   143392012-11-18\n",
       ":   151102012-11-19\n",
       ":   88412012-11-20\n",
       ":   44722012-11-21\n",
       ":   127872012-11-22\n",
       ":   204272012-11-23\n",
       ":   211942012-11-24\n",
       ":   144782012-11-25\n",
       ":   118342012-11-26\n",
       ":   111622012-11-27\n",
       ":   136462012-11-28\n",
       ":   101832012-11-29\n",
       ":   70472012-11-30\n",
       ":   0\n",
       "\n"
      ],
      "text/plain": [
       "2012-10-01 2012-10-02 2012-10-03 2012-10-04 2012-10-05 2012-10-06 2012-10-07 \n",
       "         0        126      11352      12116      13294      15420      11015 \n",
       "2012-10-08 2012-10-09 2012-10-10 2012-10-11 2012-10-12 2012-10-13 2012-10-14 \n",
       "         0      12811       9900      10304      17382      12426      15098 \n",
       "2012-10-15 2012-10-16 2012-10-17 2012-10-18 2012-10-19 2012-10-20 2012-10-21 \n",
       "     10139      15084      13452      10056      11829      10395       8821 \n",
       "2012-10-22 2012-10-23 2012-10-24 2012-10-25 2012-10-26 2012-10-27 2012-10-28 \n",
       "     13460       8918       8355       2492       6778      10119      11458 \n",
       "2012-10-29 2012-10-30 2012-10-31 2012-11-01 2012-11-02 2012-11-03 2012-11-04 \n",
       "      5018       9819      15414          0      10600      10571          0 \n",
       "2012-11-05 2012-11-06 2012-11-07 2012-11-08 2012-11-09 2012-11-10 2012-11-11 \n",
       "     10439       8334      12883       3219          0          0      12608 \n",
       "2012-11-12 2012-11-13 2012-11-14 2012-11-15 2012-11-16 2012-11-17 2012-11-18 \n",
       "     10765       7336          0         41       5441      14339      15110 \n",
       "2012-11-19 2012-11-20 2012-11-21 2012-11-22 2012-11-23 2012-11-24 2012-11-25 \n",
       "      8841       4472      12787      20427      21194      14478      11834 \n",
       "2012-11-26 2012-11-27 2012-11-28 2012-11-29 2012-11-30 \n",
       "     11162      13646      10183       7047          0 "
      ]
     },
     "metadata": {},
     "output_type": "display_data"
    }
   ],
   "source": [
    "total.steps <- tapply(df$steps, df$date, FUN=sum, na.rm=TRUE)\n",
    "total.steps"
   ]
  },
  {
   "cell_type": "code",
   "execution_count": 6,
   "id": "e850bee5-0720-44be-b647-583b26de56e3",
   "metadata": {},
   "outputs": [
    {
     "data": {
      "image/png": "[encoded data removed]",
      "text/plain": [
       "Plot with title \"Histogram of Total Number of Steps\""
      ]
     },
     "metadata": {
      "image/png": {
       "height": 420,
       "width": 420
      }
     },
     "output_type": "display_data"
    }
   ],
   "source": [
    "total.steps <- tapply(df$steps, df$date, FUN=sum, na.rm=TRUE)\n",
    "hist(total.steps, xlab=\"total number of steps taken each day\", col=\"red\", main = \"Histogram of Total Number of Steps\")"
   ]
  },
  {
   "cell_type": "code",
   "execution_count": 7,
   "id": "c2fe18db-7bcc-4a55-bd61-a9a94bb24849",
   "metadata": {},
   "outputs": [
    {
     "name": "stdout",
     "output_type": "stream",
     "text": [
      "[1] \"The Mean Number Of Daily Steps is  9354.22950819672\"\n",
      "[1] \"The Median Number Of Daily Steps is  10395\"\n"
     ]
    }
   ],
   "source": [
    "# Mean and Median of total steps\n",
    "print(paste(\"The Mean Number Of Daily Steps is \", mean(total.steps, na.rm=TRUE)))\n",
    "print(paste(\"The Median Number Of Daily Steps is \",median(total.steps, na.rm=TRUE)))"
   ]
  },
  {
   "cell_type": "markdown",
   "id": "ea6efcb3-9e80-41c2-9bcb-18ea2decb257",
   "metadata": {},
   "source": [
    "## What is the average daily activity pattern?"
   ]
  },
  {
   "cell_type": "code",
   "execution_count": 8,
   "id": "857a0fc4-eea9-448b-972b-37321dab202d",
   "metadata": {},
   "outputs": [],
   "source": [
    "dailyPattern <- tapply(df$steps, df$interval, FUN = mean, na.rm=TRUE)"
   ]
  },
  {
   "cell_type": "code",
   "execution_count": 9,
   "id": "41ae8a9f-fcb9-491c-a5a8-af1262b0361b",
   "metadata": {},
   "outputs": [
    {
     "data": {
      "image/png": "[encoded data removed]",
      "text/plain": [
       "Plot with title \"Average Number of steps taken across all days\""
      ]
     },
     "metadata": {
      "image/png": {
       "height": 420,
       "width": 420
      }
     },
     "output_type": "display_data"
    }
   ],
   "source": [
    "plot(unique(df$interval),dailyPattern, type=\"l\", col=\"red\", xlab = \"5 Minutes Time Interval\", ylab = \"Average Number of Steps\", main = \"Average Number of steps taken across all days\")"
   ]
  },
  {
   "cell_type": "code",
   "execution_count": 10,
   "id": "d6847163-9033-42c5-b100-ca711f47dc8a",
   "metadata": {},
   "outputs": [
    {
     "name": "stdout",
     "output_type": "stream",
     "text": [
      "[1] \"5 Minute Interval containing most steps is  835\"\n"
     ]
    }
   ],
   "source": [
    "print(paste(\"5 Minute Interval containing most steps is \", names(which.max(dailyPattern))))"
   ]
  },
  {
   "cell_type": "code",
   "execution_count": 11,
   "id": "c903d80a-94b5-4685-be4e-9c07a915dda2",
   "metadata": {},
   "outputs": [
    {
     "name": "stdout",
     "output_type": "stream",
     "text": [
      "[1] \"The average number of steps for that 5 Minute Interval is  206.169811320755\"\n"
     ]
    }
   ],
   "source": [
    "print(paste(\"The average number of steps for that 5 Minute Interval is \", max(dailyPattern)))"
   ]
  },
  {
   "cell_type": "markdown",
   "id": "8767b77e-1a0d-492b-aa2b-9e27f8ecfba9",
   "metadata": {},
   "source": [
    "### FIlling missing values by mean"
   ]
  },
  {
   "cell_type": "markdown",
   "id": "57438b28-4542-450c-a93c-3ed0dea32f90",
   "metadata": {},
   "source": [
    "## Imputing missing values"
   ]
  },
  {
   "cell_type": "code",
   "execution_count": 12,
   "id": "76741c06-1db3-4a00-99e8-fcda31c0346c",
   "metadata": {},
   "outputs": [
    {
     "name": "stdout",
     "output_type": "stream",
     "text": [
      "[1] 2304\n",
      "[1] 0\n",
      "[1] 0\n"
     ]
    }
   ],
   "source": [
    "print(sum(is.na(df$steps)))\n",
    "print(sum(is.na(df$date)))\n",
    "print(sum(is.na(df$interval)))"
   ]
  },
  {
   "cell_type": "code",
   "execution_count": 13,
   "id": "9f5d1145-ac73-40db-97d8-bfce62a732da",
   "metadata": {},
   "outputs": [],
   "source": [
    "df$steps[is.na(df$steps)] <- mean(df$steps, na.rm=TRUE)"
   ]
  },
  {
   "cell_type": "code",
   "execution_count": 14,
   "id": "146f86ab-32dd-4eb1-89d1-2780025fa88f",
   "metadata": {},
   "outputs": [
    {
     "data": {
      "text/html": [
       "<table class=\"dataframe\">\n",
       "<caption>A data.frame: 6 × 3</caption>\n",
       "<thead>\n",
       "\t<tr><th></th><th scope=col>steps</th><th scope=col>date</th><th scope=col>interval</th></tr>\n",
       "\t<tr><th></th><th scope=col>&lt;dbl&gt;</th><th scope=col>&lt;date&gt;</th><th scope=col>&lt;int&gt;</th></tr>\n",
       "</thead>\n",
       "<tbody>\n",
       "\t<tr><th scope=row>1</th><td>37.3826</td><td>2012-10-01</td><td> 0</td></tr>\n",
       "\t<tr><th scope=row>2</th><td>37.3826</td><td>2012-10-01</td><td> 5</td></tr>\n",
       "\t<tr><th scope=row>3</th><td>37.3826</td><td>2012-10-01</td><td>10</td></tr>\n",
       "\t<tr><th scope=row>4</th><td>37.3826</td><td>2012-10-01</td><td>15</td></tr>\n",
       "\t<tr><th scope=row>5</th><td>37.3826</td><td>2012-10-01</td><td>20</td></tr>\n",
       "\t<tr><th scope=row>6</th><td>37.3826</td><td>2012-10-01</td><td>25</td></tr>\n",
       "</tbody>\n",
       "</table>\n"
      ],
      "text/latex": [
       "A data.frame: 6 × 3\n",
       "\\begin{tabular}{r|lll}\n",
       "  & steps & date & interval\\\\\n",
       "  & <dbl> & <date> & <int>\\\\\n",
       "\\hline\n",
       "\t1 & 37.3826 & 2012-10-01 &  0\\\\\n",
       "\t2 & 37.3826 & 2012-10-01 &  5\\\\\n",
       "\t3 & 37.3826 & 2012-10-01 & 10\\\\\n",
       "\t4 & 37.3826 & 2012-10-01 & 15\\\\\n",
       "\t5 & 37.3826 & 2012-10-01 & 20\\\\\n",
       "\t6 & 37.3826 & 2012-10-01 & 25\\\\\n",
       "\\end{tabular}\n"
      ],
      "text/markdown": [
       "\n",
       "A data.frame: 6 × 3\n",
       "\n",
       "| <!--/--> | steps &lt;dbl&gt; | date &lt;date&gt; | interval &lt;int&gt; |\n",
       "|---|---|---|---|\n",
       "| 1 | 37.3826 | 2012-10-01 |  0 |\n",
       "| 2 | 37.3826 | 2012-10-01 |  5 |\n",
       "| 3 | 37.3826 | 2012-10-01 | 10 |\n",
       "| 4 | 37.3826 | 2012-10-01 | 15 |\n",
       "| 5 | 37.3826 | 2012-10-01 | 20 |\n",
       "| 6 | 37.3826 | 2012-10-01 | 25 |\n",
       "\n"
      ],
      "text/plain": [
       "  steps   date       interval\n",
       "1 37.3826 2012-10-01  0      \n",
       "2 37.3826 2012-10-01  5      \n",
       "3 37.3826 2012-10-01 10      \n",
       "4 37.3826 2012-10-01 15      \n",
       "5 37.3826 2012-10-01 20      \n",
       "6 37.3826 2012-10-01 25      "
      ]
     },
     "metadata": {},
     "output_type": "display_data"
    }
   ],
   "source": [
    "head(df)"
   ]
  },
  {
   "cell_type": "code",
   "execution_count": 16,
   "id": "77b3ec6d-f11c-42c3-be90-a1a3397048ac",
   "metadata": {},
   "outputs": [
    {
     "data": {
      "image/png": "[encoded data removed]",
      "text/plain": [
       "Plot with title \"Histogram of Total Number of Steps After Imputing Missing Values\""
      ]
     },
     "metadata": {
      "image/png": {
       "height": 420,
       "width": 420
      }
     },
     "output_type": "display_data"
    }
   ],
   "source": [
    "total.steps <- tapply(df$steps, df$date, FUN=sum)\n",
    "hist(total.steps, xlab=\"total number of steps taken each day\", col=\"blue\", main = \"Histogram of Total Number of Steps After Imputing Missing Values\")"
   ]
  },
  {
   "cell_type": "code",
   "execution_count": 17,
   "id": "a9db279f-f1e6-4f1d-9509-50baef779ae4",
   "metadata": {},
   "outputs": [
    {
     "name": "stdout",
     "output_type": "stream",
     "text": [
      "[1] \"The Mean Number Of Daily Steps after imputing missing values is  10766.1886792453\"\n",
      "[1] \"The Median Number Of Daily Steps after imputing missing values is  10766.1886792453\"\n"
     ]
    }
   ],
   "source": [
    "# Mean and Median of total steps\n",
    "print(paste(\"The Mean Number Of Daily Steps after imputing missing values is \", mean(total.steps, na.rm=TRUE)))\n",
    "print(paste(\"The Median Number Of Daily Steps after imputing missing values is \",median(total.steps, na.rm=TRUE)))"
   ]
  },
  {
   "cell_type": "markdown",
   "id": "64da440a-5650-4278-919c-944ad6a6dae6",
   "metadata": {},
   "source": [
    "## Are there differences in activity patterns between weekdays and weekends?"
   ]
  },
  {
   "cell_type": "code",
   "execution_count": 26,
   "id": "79e70d65-05b1-46db-a11f-2f528eb39948",
   "metadata": {},
   "outputs": [],
   "source": [
    "weekdays1 <- c('Monday', 'Tuesday', 'Wednesday', 'Thursday', 'Friday')\n",
    "df$daysfactor <- factor((weekdays(df$date) %in% weekdays1), levels=c(FALSE, TRUE), labels=c('weekend', 'weekday')) "
   ]
  },
  {
   "cell_type": "code",
   "execution_count": 28,
   "id": "6065a072-2d29-4ad3-9200-bb22a07d91a5",
   "metadata": {},
   "outputs": [],
   "source": [
    "weekdaysdata = subset(df, daysfactor == \"weekday\")\n",
    "weekendsdata = subset(df, daysfactor == \"weekend\")"
   ]
  },
  {
   "cell_type": "code",
   "execution_count": 31,
   "id": "9a70c19b-ca5a-42dd-88e6-f1640f04f021",
   "metadata": {},
   "outputs": [],
   "source": [
    "weekdaysInterval <- tapply(weekdaysdata$steps, weekdaysdata$interval, FUN = mean)\n",
    "weekendInterval <- tapply(weekendsdata$steps, weekendsdata$interval, FUN = mean)"
   ]
  },
  {
   "cell_type": "code",
   "execution_count": 42,
   "id": "d1b6744c-c1c4-4cf1-83e7-ff6d1318c43b",
   "metadata": {},
   "outputs": [
    {
     "data": {
      "image/png": "[encoded data removed]",
      "text/plain": [
       "Plot with title \"Weekends Aevrage Steps for 5 Minute Intervals\""
      ]
     },
     "metadata": {
      "image/png": {
       "height": 420,
       "width": 420
      }
     },
     "output_type": "display_data"
    }
   ],
   "source": [
    "par(mfrow= c(2,1))\n",
    "plot(unique(weekdaysdata$interval), weekdaysInterval, type=\"l\", col=\"red\", main=\"weekdays Average Steps for 5 Minute Intervals\", xlab = \"5 Minute Interval\", ylab = \"Average Number Of Steps\")\n",
    "plot(unique(weekendsdata$interval), weekendInterval, type=\"l\", col=\"blue\", main=\"Weekends Aevrage Steps for 5 Minute Intervals\", xlab=\"5 Minute Interval\", ylab=\"Average Number Of Steps\")"
   ]
  },
  {
   "cell_type": "code",
   "execution_count": null,
   "id": "58afbb45-2207-4a39-b185-42c1176c9b72",
   "metadata": {},
   "outputs": [],
   "source": []
  }
 ],
 "metadata": {
  "kernelspec": {
   "display_name": "R",
   "language": "R",
   "name": "ir"
  },
  "language_info": {
   "codemirror_mode": "r",
   "file_extension": ".r",
   "mimetype": "text/x-r-source",
   "name": "R",
   "pygments_lexer": "r",
   "version": "4.3.1"
  }
 },
 "nbformat": 4,
 "nbformat_minor": 5
}
